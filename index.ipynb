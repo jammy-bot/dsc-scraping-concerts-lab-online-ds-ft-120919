{
 "cells": [
  {
   "cell_type": "markdown",
   "metadata": {},
   "source": [
    "# Scraping Concerts - Lab\n",
    "\n",
    "## Introduction\n",
    "\n",
    "Now that you've seen how to scrape a simple website, it's time to again practice those skills on a full-fledged site!\n",
    "In this lab, you'll practice your scraping skills on a music website: https://www.residentadvisor.net.\n",
    "## Objectives\n",
    "\n",
    "You will be able to:\n",
    "* Create a full scraping pipeline that involves traversing over many pages of a website, dealing with errors and storing data"
   ]
  },
  {
   "cell_type": "markdown",
   "metadata": {},
   "source": [
    "## View the Website\n",
    "\n",
    "For this lab, you'll be scraping the https://www.residentadvisor.net website. Start by navigating to the events page [here](https://www.residentadvisor.net/events) in your browser.\n",
    "\n",
    "<img src=\"images/ra.png\">"
   ]
  },
  {
   "cell_type": "code",
   "execution_count": 1,
   "metadata": {},
   "outputs": [],
   "source": [
    "# Load the https://www.residentadvisor.net/events page in your browser."
   ]
  },
  {
   "cell_type": "markdown",
   "metadata": {},
   "source": [
    "## Open the Inspect Element Feature\n",
    "\n",
    "Next, open the inspect element feature from your web browser in order to preview the underlying HTML associated with the page."
   ]
  },
  {
   "cell_type": "code",
   "execution_count": 2,
   "metadata": {},
   "outputs": [],
   "source": [
    "# Open the inspect element feature in your browser"
   ]
  },
  {
   "cell_type": "markdown",
   "metadata": {},
   "source": [
    "## Write a Function to Scrape all of the Events on the Given Page Events Page\n",
    "\n",
    "The function should return a Pandas DataFrame with columns for the Event_Name, Venue, Event_Date and Number_of_Attendees."
   ]
  },
  {
   "cell_type": "code",
   "execution_count": 3,
   "metadata": {},
   "outputs": [],
   "source": [
    "# import required libraries\n",
    "import requests\n",
    "import pandas as pd\n",
    "import numpy as np\n",
    "from bs4 import BeautifulSoup\n",
    "import re\n",
    "import time\n",
    "from pprint import pprint"
   ]
  },
  {
   "cell_type": "code",
   "execution_count": 4,
   "metadata": {},
   "outputs": [],
   "source": [
    "# set variables for parsing\n",
    "url = \"https://www.residentadvisor.net/events/us/washingtondc\"\n",
    "req = requests.get(url)\n",
    "soup = BeautifulSoup(req.content, 'html.parser')"
   ]
  },
  {
   "cell_type": "markdown",
   "metadata": {},
   "source": [
    "### Find the Page's Event Names"
   ]
  },
  {
   "cell_type": "code",
   "execution_count": 5,
   "metadata": {},
   "outputs": [],
   "source": [
    "event_listings = soup.find('div', id=\"event-listing\")"
   ]
  },
  {
   "cell_type": "code",
   "execution_count": 6,
   "metadata": {},
   "outputs": [
    {
     "name": "stdout",
     "output_type": "stream",
     "text": [
      "21 <li><p class=\"eventDate date\"><a href=\"/events.aspx?ai=22&amp;v=day&amp;mn=1&amp;yr=2020&amp;dy=16\"><span>Thu, 16 Jan 2020 /</span></a></p></li>\n"
     ]
    }
   ],
   "source": [
    "entries = event_listings.findAll('li')\n",
    "print(len(entries), entries[0])"
   ]
  },
  {
   "cell_type": "markdown",
   "metadata": {},
   "source": [
    "### Develop the Function"
   ]
  },
  {
   "cell_type": "code",
   "execution_count": 7,
   "metadata": {},
   "outputs": [
    {
     "data": {
      "text/html": [
       "<div>\n",
       "<style scoped>\n",
       "    .dataframe tbody tr th:only-of-type {\n",
       "        vertical-align: middle;\n",
       "    }\n",
       "\n",
       "    .dataframe tbody tr th {\n",
       "        vertical-align: top;\n",
       "    }\n",
       "\n",
       "    .dataframe thead th {\n",
       "        text-align: right;\n",
       "    }\n",
       "</style>\n",
       "<table border=\"1\" class=\"dataframe\">\n",
       "  <thead>\n",
       "    <tr style=\"text-align: right;\">\n",
       "      <th></th>\n",
       "      <th>0</th>\n",
       "      <th>1</th>\n",
       "      <th>2</th>\n",
       "      <th>3</th>\n",
       "    </tr>\n",
       "  </thead>\n",
       "  <tbody>\n",
       "    <tr>\n",
       "      <td>0</td>\n",
       "      <td>Contact: Nathan Barato</td>\n",
       "      <td>Flash</td>\n",
       "      <td>Thu, 16 Jan 2020</td>\n",
       "      <td>10</td>\n",
       "    </tr>\n",
       "    <tr>\n",
       "      <td>1</td>\n",
       "      <td>Playlist 4 Year Anniversary - Navbox / Mina/ G...</td>\n",
       "      <td>Eighteenth Street Lounge</td>\n",
       "      <td>Thu, 16 Jan 2020</td>\n",
       "      <td>3</td>\n",
       "    </tr>\n",
       "    <tr>\n",
       "      <td>2</td>\n",
       "      <td>Mark Farina</td>\n",
       "      <td>Flash</td>\n",
       "      <td>Fri, 17 Jan 2020</td>\n",
       "      <td>17</td>\n",
       "    </tr>\n",
       "    <tr>\n",
       "      <td>3</td>\n",
       "      <td>The Gardens of Babylon Fundraiser Night - Wash...</td>\n",
       "      <td>Zeba Bar</td>\n",
       "      <td>Fri, 17 Jan 2020</td>\n",
       "      <td>10</td>\n",
       "    </tr>\n",
       "    <tr>\n",
       "      <td>4</td>\n",
       "      <td>Hedonism I</td>\n",
       "      <td>The Thirsty Crow</td>\n",
       "      <td>Fri, 17 Jan 2020</td>\n",
       "      <td>2</td>\n",
       "    </tr>\n",
       "  </tbody>\n",
       "</table>\n",
       "</div>"
      ],
      "text/plain": [
       "                                                   0  \\\n",
       "0                             Contact: Nathan Barato   \n",
       "1  Playlist 4 Year Anniversary - Navbox / Mina/ G...   \n",
       "2                                        Mark Farina   \n",
       "3  The Gardens of Babylon Fundraiser Night - Wash...   \n",
       "4                                         Hedonism I   \n",
       "\n",
       "                          1                  2   3  \n",
       "0                     Flash  Thu, 16 Jan 2020   10  \n",
       "1  Eighteenth Street Lounge  Thu, 16 Jan 2020    3  \n",
       "2                     Flash  Fri, 17 Jan 2020   17  \n",
       "3                  Zeba Bar  Fri, 17 Jan 2020   10  \n",
       "4          The Thirsty Crow  Fri, 17 Jan 2020    2  "
      ]
     },
     "execution_count": 7,
     "metadata": {},
     "output_type": "execute_result"
    }
   ],
   "source": [
    "rows = []\n",
    "for entry in entries:\n",
    "    # Is it a date or an event title?\n",
    "    date = entry.find('p', class_=\"eventDate date\")\n",
    "    event = entry.find('h1', class_=\"event-title\")\n",
    "    if event:\n",
    "        details = event.text.split(' at ') # split to find event name sub-string\n",
    "        event_name = details[0].strip()\n",
    "        venue = details[1].strip() # split to find venue\n",
    "        # try converting number of attendees string to integer or else to Nan\n",
    "        try:\n",
    "            n_attendees = int(re.match(\"(\\d*)\", entry.find('p', class_=\"attending\").text)[0])\n",
    "        except:\n",
    "            n_attendees = np.nan\n",
    "        rows.append([event_name, venue, cur_date, n_attendees]) # add results to rows list\n",
    "    elif date:\n",
    "        cur_date = date.text.replace(\"/\",\"\")\n",
    "    else:\n",
    "        continue\n",
    "\n",
    "df = pd.DataFrame(rows)\n",
    "df.head()"
   ]
  },
  {
   "cell_type": "code",
   "execution_count": 8,
   "metadata": {},
   "outputs": [
    {
     "data": {
      "text/html": [
       "<div>\n",
       "<style scoped>\n",
       "    .dataframe tbody tr th:only-of-type {\n",
       "        vertical-align: middle;\n",
       "    }\n",
       "\n",
       "    .dataframe tbody tr th {\n",
       "        vertical-align: top;\n",
       "    }\n",
       "\n",
       "    .dataframe thead th {\n",
       "        text-align: right;\n",
       "    }\n",
       "</style>\n",
       "<table border=\"1\" class=\"dataframe\">\n",
       "  <thead>\n",
       "    <tr style=\"text-align: right;\">\n",
       "      <th></th>\n",
       "      <th>Event_Name</th>\n",
       "      <th>Venue</th>\n",
       "      <th>Event_Date</th>\n",
       "      <th>Number_of_Attendees</th>\n",
       "    </tr>\n",
       "  </thead>\n",
       "  <tbody>\n",
       "    <tr>\n",
       "      <td>6</td>\n",
       "      <td>TNX &amp; SEQUENCE: Spank</td>\n",
       "      <td>TBA - Washington DC</td>\n",
       "      <td>Sat, 18 Jan 2020</td>\n",
       "      <td>169</td>\n",
       "    </tr>\n",
       "    <tr>\n",
       "      <td>7</td>\n",
       "      <td>Horse Meat Disco</td>\n",
       "      <td>Flash</td>\n",
       "      <td>Sat, 18 Jan 2020</td>\n",
       "      <td>96</td>\n",
       "    </tr>\n",
       "    <tr>\n",
       "      <td>8</td>\n",
       "      <td>[POSTPONED] 1213 K Event</td>\n",
       "      <td>1213 K</td>\n",
       "      <td>Sat, 18 Jan 2020</td>\n",
       "      <td>49</td>\n",
       "    </tr>\n",
       "    <tr>\n",
       "      <td>2</td>\n",
       "      <td>Mark Farina</td>\n",
       "      <td>Flash</td>\n",
       "      <td>Fri, 17 Jan 2020</td>\n",
       "      <td>17</td>\n",
       "    </tr>\n",
       "    <tr>\n",
       "      <td>0</td>\n",
       "      <td>Contact: Nathan Barato</td>\n",
       "      <td>Flash</td>\n",
       "      <td>Thu, 16 Jan 2020</td>\n",
       "      <td>10</td>\n",
       "    </tr>\n",
       "    <tr>\n",
       "      <td>3</td>\n",
       "      <td>The Gardens of Babylon Fundraiser Night - Wash...</td>\n",
       "      <td>Zeba Bar</td>\n",
       "      <td>Fri, 17 Jan 2020</td>\n",
       "      <td>10</td>\n",
       "    </tr>\n",
       "    <tr>\n",
       "      <td>11</td>\n",
       "      <td>Wunderdisco 2020</td>\n",
       "      <td>Wunder Garten</td>\n",
       "      <td>Sun, 19 Jan 2020</td>\n",
       "      <td>5</td>\n",
       "    </tr>\n",
       "    <tr>\n",
       "      <td>13</td>\n",
       "      <td>Wunderdisco 2020</td>\n",
       "      <td>Wunder Garten</td>\n",
       "      <td>Mon, 20 Jan 2020</td>\n",
       "      <td>5</td>\n",
       "    </tr>\n",
       "    <tr>\n",
       "      <td>12</td>\n",
       "      <td>The Cluck Off II</td>\n",
       "      <td>Jimmy Valentine's Lonely Hearts Club</td>\n",
       "      <td>Sun, 19 Jan 2020</td>\n",
       "      <td>4</td>\n",
       "    </tr>\n",
       "    <tr>\n",
       "      <td>1</td>\n",
       "      <td>Playlist 4 Year Anniversary - Navbox / Mina/ G...</td>\n",
       "      <td>Eighteenth Street Lounge</td>\n",
       "      <td>Thu, 16 Jan 2020</td>\n",
       "      <td>3</td>\n",
       "    </tr>\n",
       "    <tr>\n",
       "      <td>9</td>\n",
       "      <td>U-Hall presents</td>\n",
       "      <td>U Street Music Hall</td>\n",
       "      <td>Sat, 18 Jan 2020</td>\n",
       "      <td>3</td>\n",
       "    </tr>\n",
       "    <tr>\n",
       "      <td>4</td>\n",
       "      <td>Hedonism I</td>\n",
       "      <td>The Thirsty Crow</td>\n",
       "      <td>Fri, 17 Jan 2020</td>\n",
       "      <td>2</td>\n",
       "    </tr>\n",
       "    <tr>\n",
       "      <td>5</td>\n",
       "      <td>Leather Weekend: Matinee Pervert Party</td>\n",
       "      <td>Karma Live Music Venue</td>\n",
       "      <td>Fri, 17 Jan 2020</td>\n",
       "      <td>1</td>\n",
       "    </tr>\n",
       "    <tr>\n",
       "      <td>10</td>\n",
       "      <td>Hot Diggity Dog</td>\n",
       "      <td>Jimmy Valentine's Lonely Hearts Club</td>\n",
       "      <td>Sat, 18 Jan 2020</td>\n",
       "      <td>1</td>\n",
       "    </tr>\n",
       "  </tbody>\n",
       "</table>\n",
       "</div>"
      ],
      "text/plain": [
       "                                           Event_Name  \\\n",
       "6                               TNX & SEQUENCE: Spank   \n",
       "7                                    Horse Meat Disco   \n",
       "8                            [POSTPONED] 1213 K Event   \n",
       "2                                         Mark Farina   \n",
       "0                              Contact: Nathan Barato   \n",
       "3   The Gardens of Babylon Fundraiser Night - Wash...   \n",
       "11                                   Wunderdisco 2020   \n",
       "13                                   Wunderdisco 2020   \n",
       "12                                   The Cluck Off II   \n",
       "1   Playlist 4 Year Anniversary - Navbox / Mina/ G...   \n",
       "9                                     U-Hall presents   \n",
       "4                                          Hedonism I   \n",
       "5              Leather Weekend: Matinee Pervert Party   \n",
       "10                                    Hot Diggity Dog   \n",
       "\n",
       "                                   Venue         Event_Date  \\\n",
       "6                    TBA - Washington DC  Sat, 18 Jan 2020    \n",
       "7                                  Flash  Sat, 18 Jan 2020    \n",
       "8                                 1213 K  Sat, 18 Jan 2020    \n",
       "2                                  Flash  Fri, 17 Jan 2020    \n",
       "0                                  Flash  Thu, 16 Jan 2020    \n",
       "3                               Zeba Bar  Fri, 17 Jan 2020    \n",
       "11                         Wunder Garten  Sun, 19 Jan 2020    \n",
       "13                         Wunder Garten  Mon, 20 Jan 2020    \n",
       "12  Jimmy Valentine's Lonely Hearts Club  Sun, 19 Jan 2020    \n",
       "1               Eighteenth Street Lounge  Thu, 16 Jan 2020    \n",
       "9                    U Street Music Hall  Sat, 18 Jan 2020    \n",
       "4                       The Thirsty Crow  Fri, 17 Jan 2020    \n",
       "5                 Karma Live Music Venue  Fri, 17 Jan 2020    \n",
       "10  Jimmy Valentine's Lonely Hearts Club  Sat, 18 Jan 2020    \n",
       "\n",
       "    Number_of_Attendees  \n",
       "6                   169  \n",
       "7                    96  \n",
       "8                    49  \n",
       "2                    17  \n",
       "0                    10  \n",
       "3                    10  \n",
       "11                    5  \n",
       "13                    5  \n",
       "12                    4  \n",
       "1                     3  \n",
       "9                     3  \n",
       "4                     2  \n",
       "5                     1  \n",
       "10                    1  "
      ]
     },
     "execution_count": 8,
     "metadata": {},
     "output_type": "execute_result"
    }
   ],
   "source": [
    "#Final function\n",
    "def scrape_events(events_page_url):\n",
    "    #Your code here\n",
    "    response = requests.get(events_page_url)\n",
    "    soup = BeautifulSoup(response.content, 'html.parser')\n",
    "    entries = event_listings.findAll('li')\n",
    "    rows = []\n",
    "    for entry in entries:\n",
    "        #Is it a date? If so, set current date.\n",
    "        date = entry.find('p', class_=\"eventDate date\")\n",
    "        event = entry.find('h1', class_=\"event-title\")\n",
    "        if event:\n",
    "            details = event.text.split(' at ')\n",
    "            event_name = details[0].strip()\n",
    "            venue = details[1].strip()\n",
    "            try:\n",
    "                n_attendees = int(re.match(\"(\\d*)\", entry.find('p', class_=\"attending\").text)[0])\n",
    "            except:\n",
    "                n_attendees = np.nan\n",
    "            rows.append([event_name, venue, cur_date, n_attendees])\n",
    "        elif date:\n",
    "            cur_date = date.text.replace(\"/\",\"\") #remove trailing slash\n",
    "        else:\n",
    "            continue\n",
    "    df = pd.DataFrame(rows)\n",
    "    df.head()\n",
    "    df.columns = [\"Event_Name\", \"Venue\", \"Event_Date\", \"Number_of_Attendees\"]\n",
    "    return df.sort_values(by='Number_of_Attendees', ascending=False)\n",
    "\n",
    "scrape_events(url)"
   ]
  },
  {
   "cell_type": "markdown",
   "metadata": {},
   "source": [
    "## Write a Function to Retrieve the URL for the Next Page"
   ]
  },
  {
   "cell_type": "code",
   "execution_count": 9,
   "metadata": {},
   "outputs": [
    {
     "data": {
      "text/plain": [
       "'/events/us/washingtondc/week/2020-01-21'"
      ]
     },
     "execution_count": 9,
     "metadata": {},
     "output_type": "execute_result"
    }
   ],
   "source": [
    "#Function development cell\n",
    "soup.find('a', attrs={'ga-event-action':\"Next \"}).attrs['href']"
   ]
  },
  {
   "cell_type": "code",
   "execution_count": 10,
   "metadata": {},
   "outputs": [
    {
     "data": {
      "text/plain": [
       "'https://www.residentadvisor.net/events/us/washingtondc/week/2020-01-21'"
      ]
     },
     "execution_count": 10,
     "metadata": {},
     "output_type": "execute_result"
    }
   ],
   "source": [
    "def next_page(url):\n",
    "    #Your code here\n",
    "    response = requests.get(url)\n",
    "    soup = BeautifulSoup(response.content, 'html.parser')\n",
    "    # Break if there is no next page\n",
    "    if soup.find('a', attrs={'ga-event-action':\"Next \"}) is None:\n",
    "        Break\n",
    "    else:\n",
    "        # find the next page attibute\n",
    "        url_ext = soup.find('a', attrs={'ga-event-action':\"Next \"}).attrs['href']\n",
    "        next_page_url = \"https://www.residentadvisor.net\" + url_ext\n",
    "    return next_page_url\n",
    "\n",
    "next_page(url)"
   ]
  },
  {
   "cell_type": "markdown",
   "metadata": {},
   "source": [
    "## Scrape the Next 1000 Events for Your Area\n",
    "\n",
    "Display the data sorted by the number of attendees. If there is a tie for the number attending, sort by event date."
   ]
  },
  {
   "cell_type": "code",
   "execution_count": 11,
   "metadata": {},
   "outputs": [
    {
     "data": {
      "text/plain": [
       "'14 rows after finding https://www.residentadvisor.net/events/us/washingtondc'"
      ]
     },
     "metadata": {},
     "output_type": "display_data"
    },
    {
     "data": {
      "text/plain": [
       "'28 rows after finding https://www.residentadvisor.net/events/us/washingtondc/week/2020-01-21'"
      ]
     },
     "metadata": {},
     "output_type": "display_data"
    },
    {
     "data": {
      "text/plain": [
       "'42 rows after finding https://www.residentadvisor.net/events/us/washingtondc/week/2020-01-28'"
      ]
     },
     "metadata": {},
     "output_type": "display_data"
    },
    {
     "data": {
      "text/plain": [
       "'56 rows after finding https://www.residentadvisor.net/events/us/washingtondc/week/2020-02-04'"
      ]
     },
     "metadata": {},
     "output_type": "display_data"
    },
    {
     "data": {
      "text/plain": [
       "'70 rows after finding https://www.residentadvisor.net/events/us/washingtondc/week/2020-02-11'"
      ]
     },
     "metadata": {},
     "output_type": "display_data"
    },
    {
     "data": {
      "text/plain": [
       "'84 rows after finding https://www.residentadvisor.net/events/us/washingtondc/week/2020-02-18'"
      ]
     },
     "metadata": {},
     "output_type": "display_data"
    },
    {
     "data": {
      "text/plain": [
       "'98 rows after finding https://www.residentadvisor.net/events/us/washingtondc/week/2020-02-25'"
      ]
     },
     "metadata": {},
     "output_type": "display_data"
    },
    {
     "data": {
      "text/plain": [
       "'112 rows after finding https://www.residentadvisor.net/events/us/washingtondc/week/2020-03-03'"
      ]
     },
     "metadata": {},
     "output_type": "display_data"
    }
   ],
   "source": [
    "dfs = []\n",
    "total_rows = 0\n",
    "cur_url = \"https://www.residentadvisor.net/events/us/washingtondc\"\n",
    "\n",
    "while total_rows <= 100:\n",
    "    df = scrape_events(cur_url)\n",
    "    dfs.append(df)\n",
    "    total_rows += len(df)\n",
    "    #verify iteration\n",
    "    display(f\"{total_rows} rows after finding {cur_url}\")\n",
    "    cur_url = next_page(cur_url)\n",
    "    time.sleep(.2)\n",
    "    if next_page(cur_url) is None:\n",
    "        break"
   ]
  },
  {
   "cell_type": "markdown",
   "metadata": {},
   "source": [
    "*...printing the same 14 rows for each loop*"
   ]
  },
  {
   "cell_type": "code",
   "execution_count": 12,
   "metadata": {},
   "outputs": [
    {
     "name": "stdout",
     "output_type": "stream",
     "text": [
      "112\n"
     ]
    },
    {
     "data": {
      "text/html": [
       "<div>\n",
       "<style scoped>\n",
       "    .dataframe tbody tr th:only-of-type {\n",
       "        vertical-align: middle;\n",
       "    }\n",
       "\n",
       "    .dataframe tbody tr th {\n",
       "        vertical-align: top;\n",
       "    }\n",
       "\n",
       "    .dataframe thead th {\n",
       "        text-align: right;\n",
       "    }\n",
       "</style>\n",
       "<table border=\"1\" class=\"dataframe\">\n",
       "  <thead>\n",
       "    <tr style=\"text-align: right;\">\n",
       "      <th></th>\n",
       "      <th>Event_Name</th>\n",
       "      <th>Venue</th>\n",
       "      <th>Event_Date</th>\n",
       "      <th>Number_of_Attendees</th>\n",
       "    </tr>\n",
       "  </thead>\n",
       "  <tbody>\n",
       "    <tr>\n",
       "      <td>6</td>\n",
       "      <td>TNX &amp; SEQUENCE: Spank</td>\n",
       "      <td>TBA - Washington DC</td>\n",
       "      <td>Sat, 18 Jan 2020</td>\n",
       "      <td>169</td>\n",
       "    </tr>\n",
       "    <tr>\n",
       "      <td>7</td>\n",
       "      <td>Horse Meat Disco</td>\n",
       "      <td>Flash</td>\n",
       "      <td>Sat, 18 Jan 2020</td>\n",
       "      <td>96</td>\n",
       "    </tr>\n",
       "    <tr>\n",
       "      <td>8</td>\n",
       "      <td>[POSTPONED] 1213 K Event</td>\n",
       "      <td>1213 K</td>\n",
       "      <td>Sat, 18 Jan 2020</td>\n",
       "      <td>49</td>\n",
       "    </tr>\n",
       "    <tr>\n",
       "      <td>2</td>\n",
       "      <td>Mark Farina</td>\n",
       "      <td>Flash</td>\n",
       "      <td>Fri, 17 Jan 2020</td>\n",
       "      <td>17</td>\n",
       "    </tr>\n",
       "    <tr>\n",
       "      <td>0</td>\n",
       "      <td>Contact: Nathan Barato</td>\n",
       "      <td>Flash</td>\n",
       "      <td>Thu, 16 Jan 2020</td>\n",
       "      <td>10</td>\n",
       "    </tr>\n",
       "    <tr>\n",
       "      <td>3</td>\n",
       "      <td>The Gardens of Babylon Fundraiser Night - Wash...</td>\n",
       "      <td>Zeba Bar</td>\n",
       "      <td>Fri, 17 Jan 2020</td>\n",
       "      <td>10</td>\n",
       "    </tr>\n",
       "    <tr>\n",
       "      <td>11</td>\n",
       "      <td>Wunderdisco 2020</td>\n",
       "      <td>Wunder Garten</td>\n",
       "      <td>Sun, 19 Jan 2020</td>\n",
       "      <td>5</td>\n",
       "    </tr>\n",
       "    <tr>\n",
       "      <td>13</td>\n",
       "      <td>Wunderdisco 2020</td>\n",
       "      <td>Wunder Garten</td>\n",
       "      <td>Mon, 20 Jan 2020</td>\n",
       "      <td>5</td>\n",
       "    </tr>\n",
       "    <tr>\n",
       "      <td>12</td>\n",
       "      <td>The Cluck Off II</td>\n",
       "      <td>Jimmy Valentine's Lonely Hearts Club</td>\n",
       "      <td>Sun, 19 Jan 2020</td>\n",
       "      <td>4</td>\n",
       "    </tr>\n",
       "    <tr>\n",
       "      <td>1</td>\n",
       "      <td>Playlist 4 Year Anniversary - Navbox / Mina/ G...</td>\n",
       "      <td>Eighteenth Street Lounge</td>\n",
       "      <td>Thu, 16 Jan 2020</td>\n",
       "      <td>3</td>\n",
       "    </tr>\n",
       "    <tr>\n",
       "      <td>9</td>\n",
       "      <td>U-Hall presents</td>\n",
       "      <td>U Street Music Hall</td>\n",
       "      <td>Sat, 18 Jan 2020</td>\n",
       "      <td>3</td>\n",
       "    </tr>\n",
       "    <tr>\n",
       "      <td>4</td>\n",
       "      <td>Hedonism I</td>\n",
       "      <td>The Thirsty Crow</td>\n",
       "      <td>Fri, 17 Jan 2020</td>\n",
       "      <td>2</td>\n",
       "    </tr>\n",
       "    <tr>\n",
       "      <td>5</td>\n",
       "      <td>Leather Weekend: Matinee Pervert Party</td>\n",
       "      <td>Karma Live Music Venue</td>\n",
       "      <td>Fri, 17 Jan 2020</td>\n",
       "      <td>1</td>\n",
       "    </tr>\n",
       "    <tr>\n",
       "      <td>10</td>\n",
       "      <td>Hot Diggity Dog</td>\n",
       "      <td>Jimmy Valentine's Lonely Hearts Club</td>\n",
       "      <td>Sat, 18 Jan 2020</td>\n",
       "      <td>1</td>\n",
       "    </tr>\n",
       "    <tr>\n",
       "      <td>6</td>\n",
       "      <td>TNX &amp; SEQUENCE: Spank</td>\n",
       "      <td>TBA - Washington DC</td>\n",
       "      <td>Sat, 18 Jan 2020</td>\n",
       "      <td>169</td>\n",
       "    </tr>\n",
       "    <tr>\n",
       "      <td>7</td>\n",
       "      <td>Horse Meat Disco</td>\n",
       "      <td>Flash</td>\n",
       "      <td>Sat, 18 Jan 2020</td>\n",
       "      <td>96</td>\n",
       "    </tr>\n",
       "    <tr>\n",
       "      <td>8</td>\n",
       "      <td>[POSTPONED] 1213 K Event</td>\n",
       "      <td>1213 K</td>\n",
       "      <td>Sat, 18 Jan 2020</td>\n",
       "      <td>49</td>\n",
       "    </tr>\n",
       "    <tr>\n",
       "      <td>2</td>\n",
       "      <td>Mark Farina</td>\n",
       "      <td>Flash</td>\n",
       "      <td>Fri, 17 Jan 2020</td>\n",
       "      <td>17</td>\n",
       "    </tr>\n",
       "    <tr>\n",
       "      <td>0</td>\n",
       "      <td>Contact: Nathan Barato</td>\n",
       "      <td>Flash</td>\n",
       "      <td>Thu, 16 Jan 2020</td>\n",
       "      <td>10</td>\n",
       "    </tr>\n",
       "    <tr>\n",
       "      <td>3</td>\n",
       "      <td>The Gardens of Babylon Fundraiser Night - Wash...</td>\n",
       "      <td>Zeba Bar</td>\n",
       "      <td>Fri, 17 Jan 2020</td>\n",
       "      <td>10</td>\n",
       "    </tr>\n",
       "    <tr>\n",
       "      <td>11</td>\n",
       "      <td>Wunderdisco 2020</td>\n",
       "      <td>Wunder Garten</td>\n",
       "      <td>Sun, 19 Jan 2020</td>\n",
       "      <td>5</td>\n",
       "    </tr>\n",
       "    <tr>\n",
       "      <td>13</td>\n",
       "      <td>Wunderdisco 2020</td>\n",
       "      <td>Wunder Garten</td>\n",
       "      <td>Mon, 20 Jan 2020</td>\n",
       "      <td>5</td>\n",
       "    </tr>\n",
       "    <tr>\n",
       "      <td>12</td>\n",
       "      <td>The Cluck Off II</td>\n",
       "      <td>Jimmy Valentine's Lonely Hearts Club</td>\n",
       "      <td>Sun, 19 Jan 2020</td>\n",
       "      <td>4</td>\n",
       "    </tr>\n",
       "    <tr>\n",
       "      <td>1</td>\n",
       "      <td>Playlist 4 Year Anniversary - Navbox / Mina/ G...</td>\n",
       "      <td>Eighteenth Street Lounge</td>\n",
       "      <td>Thu, 16 Jan 2020</td>\n",
       "      <td>3</td>\n",
       "    </tr>\n",
       "    <tr>\n",
       "      <td>9</td>\n",
       "      <td>U-Hall presents</td>\n",
       "      <td>U Street Music Hall</td>\n",
       "      <td>Sat, 18 Jan 2020</td>\n",
       "      <td>3</td>\n",
       "    </tr>\n",
       "    <tr>\n",
       "      <td>4</td>\n",
       "      <td>Hedonism I</td>\n",
       "      <td>The Thirsty Crow</td>\n",
       "      <td>Fri, 17 Jan 2020</td>\n",
       "      <td>2</td>\n",
       "    </tr>\n",
       "    <tr>\n",
       "      <td>5</td>\n",
       "      <td>Leather Weekend: Matinee Pervert Party</td>\n",
       "      <td>Karma Live Music Venue</td>\n",
       "      <td>Fri, 17 Jan 2020</td>\n",
       "      <td>1</td>\n",
       "    </tr>\n",
       "    <tr>\n",
       "      <td>10</td>\n",
       "      <td>Hot Diggity Dog</td>\n",
       "      <td>Jimmy Valentine's Lonely Hearts Club</td>\n",
       "      <td>Sat, 18 Jan 2020</td>\n",
       "      <td>1</td>\n",
       "    </tr>\n",
       "    <tr>\n",
       "      <td>6</td>\n",
       "      <td>TNX &amp; SEQUENCE: Spank</td>\n",
       "      <td>TBA - Washington DC</td>\n",
       "      <td>Sat, 18 Jan 2020</td>\n",
       "      <td>169</td>\n",
       "    </tr>\n",
       "  </tbody>\n",
       "</table>\n",
       "</div>"
      ],
      "text/plain": [
       "                                           Event_Name  \\\n",
       "6                               TNX & SEQUENCE: Spank   \n",
       "7                                    Horse Meat Disco   \n",
       "8                            [POSTPONED] 1213 K Event   \n",
       "2                                         Mark Farina   \n",
       "0                              Contact: Nathan Barato   \n",
       "3   The Gardens of Babylon Fundraiser Night - Wash...   \n",
       "11                                   Wunderdisco 2020   \n",
       "13                                   Wunderdisco 2020   \n",
       "12                                   The Cluck Off II   \n",
       "1   Playlist 4 Year Anniversary - Navbox / Mina/ G...   \n",
       "9                                     U-Hall presents   \n",
       "4                                          Hedonism I   \n",
       "5              Leather Weekend: Matinee Pervert Party   \n",
       "10                                    Hot Diggity Dog   \n",
       "6                               TNX & SEQUENCE: Spank   \n",
       "7                                    Horse Meat Disco   \n",
       "8                            [POSTPONED] 1213 K Event   \n",
       "2                                         Mark Farina   \n",
       "0                              Contact: Nathan Barato   \n",
       "3   The Gardens of Babylon Fundraiser Night - Wash...   \n",
       "11                                   Wunderdisco 2020   \n",
       "13                                   Wunderdisco 2020   \n",
       "12                                   The Cluck Off II   \n",
       "1   Playlist 4 Year Anniversary - Navbox / Mina/ G...   \n",
       "9                                     U-Hall presents   \n",
       "4                                          Hedonism I   \n",
       "5              Leather Weekend: Matinee Pervert Party   \n",
       "10                                    Hot Diggity Dog   \n",
       "6                               TNX & SEQUENCE: Spank   \n",
       "\n",
       "                                   Venue         Event_Date  \\\n",
       "6                    TBA - Washington DC  Sat, 18 Jan 2020    \n",
       "7                                  Flash  Sat, 18 Jan 2020    \n",
       "8                                 1213 K  Sat, 18 Jan 2020    \n",
       "2                                  Flash  Fri, 17 Jan 2020    \n",
       "0                                  Flash  Thu, 16 Jan 2020    \n",
       "3                               Zeba Bar  Fri, 17 Jan 2020    \n",
       "11                         Wunder Garten  Sun, 19 Jan 2020    \n",
       "13                         Wunder Garten  Mon, 20 Jan 2020    \n",
       "12  Jimmy Valentine's Lonely Hearts Club  Sun, 19 Jan 2020    \n",
       "1               Eighteenth Street Lounge  Thu, 16 Jan 2020    \n",
       "9                    U Street Music Hall  Sat, 18 Jan 2020    \n",
       "4                       The Thirsty Crow  Fri, 17 Jan 2020    \n",
       "5                 Karma Live Music Venue  Fri, 17 Jan 2020    \n",
       "10  Jimmy Valentine's Lonely Hearts Club  Sat, 18 Jan 2020    \n",
       "6                    TBA - Washington DC  Sat, 18 Jan 2020    \n",
       "7                                  Flash  Sat, 18 Jan 2020    \n",
       "8                                 1213 K  Sat, 18 Jan 2020    \n",
       "2                                  Flash  Fri, 17 Jan 2020    \n",
       "0                                  Flash  Thu, 16 Jan 2020    \n",
       "3                               Zeba Bar  Fri, 17 Jan 2020    \n",
       "11                         Wunder Garten  Sun, 19 Jan 2020    \n",
       "13                         Wunder Garten  Mon, 20 Jan 2020    \n",
       "12  Jimmy Valentine's Lonely Hearts Club  Sun, 19 Jan 2020    \n",
       "1               Eighteenth Street Lounge  Thu, 16 Jan 2020    \n",
       "9                    U Street Music Hall  Sat, 18 Jan 2020    \n",
       "4                       The Thirsty Crow  Fri, 17 Jan 2020    \n",
       "5                 Karma Live Music Venue  Fri, 17 Jan 2020    \n",
       "10  Jimmy Valentine's Lonely Hearts Club  Sat, 18 Jan 2020    \n",
       "6                    TBA - Washington DC  Sat, 18 Jan 2020    \n",
       "\n",
       "    Number_of_Attendees  \n",
       "6                   169  \n",
       "7                    96  \n",
       "8                    49  \n",
       "2                    17  \n",
       "0                    10  \n",
       "3                    10  \n",
       "11                    5  \n",
       "13                    5  \n",
       "12                    4  \n",
       "1                     3  \n",
       "9                     3  \n",
       "4                     2  \n",
       "5                     1  \n",
       "10                    1  \n",
       "6                   169  \n",
       "7                    96  \n",
       "8                    49  \n",
       "2                    17  \n",
       "0                    10  \n",
       "3                    10  \n",
       "11                    5  \n",
       "13                    5  \n",
       "12                    4  \n",
       "1                     3  \n",
       "9                     3  \n",
       "4                     2  \n",
       "5                     1  \n",
       "10                    1  \n",
       "6                   169  "
      ]
     },
     "metadata": {},
     "output_type": "display_data"
    }
   ],
   "source": [
    "df = pd.concat(dfs)\n",
    "df = df.iloc[:1000]\n",
    "\n",
    "print(len(df))\n",
    "display(df.head(29))"
   ]
  },
  {
   "cell_type": "markdown",
   "metadata": {},
   "source": [
    "## Summary \n",
    "\n",
    "Congratulations! In this lab, you successfully developed a pipeline to scrape a website for concert event information!"
   ]
  }
 ],
 "metadata": {
  "kernelspec": {
   "display_name": "Python [conda env:learn-env] *",
   "language": "python",
   "name": "conda-env-learn-env-py"
  },
  "language_info": {
   "codemirror_mode": {
    "name": "ipython",
    "version": 3
   },
   "file_extension": ".py",
   "mimetype": "text/x-python",
   "name": "python",
   "nbconvert_exporter": "python",
   "pygments_lexer": "ipython3",
   "version": "3.6.9"
  }
 },
 "nbformat": 4,
 "nbformat_minor": 2
}
