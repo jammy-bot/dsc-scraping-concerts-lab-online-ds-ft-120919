{
 "cells": [
  {
   "cell_type": "markdown",
   "metadata": {},
   "source": [
    "# Scraping Concerts - Lab\n",
    "\n",
    "## Introduction\n",
    "\n",
    "Now that you've seen how to scrape a simple website, it's time to again practice those skills on a full-fledged site!\n",
    "In this lab, you'll practice your scraping skills on a music website: https://www.residentadvisor.net.\n",
    "## Objectives\n",
    "\n",
    "You will be able to:\n",
    "* Create a full scraping pipeline that involves traversing over many pages of a website, dealing with errors and storing data"
   ]
  },
  {
   "cell_type": "markdown",
   "metadata": {},
   "source": [
    "## View the Website\n",
    "\n",
    "For this lab, you'll be scraping the https://www.residentadvisor.net website. Start by navigating to the events page [here](https://www.residentadvisor.net/events) in your browser.\n",
    "\n",
    "<img src=\"images/ra.png\">"
   ]
  },
  {
   "cell_type": "code",
   "execution_count": 8,
   "metadata": {},
   "outputs": [],
   "source": [
    "# Load the https://www.residentadvisor.net/events page in your browser."
   ]
  },
  {
   "cell_type": "markdown",
   "metadata": {},
   "source": [
    "## Open the Inspect Element Feature\n",
    "\n",
    "Next, open the inspect element feature from your web browser in order to preview the underlying HTML associated with the page."
   ]
  },
  {
   "cell_type": "code",
   "execution_count": 9,
   "metadata": {},
   "outputs": [],
   "source": [
    "# Open the inspect element feature in your browser"
   ]
  },
  {
   "cell_type": "markdown",
   "metadata": {},
   "source": [
    "## Write a Function to Scrape all of the Events on the Given Page Events Page\n",
    "\n",
    "The function should return a Pandas DataFrame with columns for the Event_Name, Venue, Event_Date and Number_of_Attendees."
   ]
  },
  {
   "cell_type": "code",
   "execution_count": 10,
   "metadata": {},
   "outputs": [],
   "source": [
    "# import required libraries\n",
    "import requests\n",
    "import pandas as pd\n",
    "import numpy as np\n",
    "from bs4 import BeautifulSoup\n",
    "import re"
   ]
  },
  {
   "cell_type": "code",
   "execution_count": 14,
   "metadata": {},
   "outputs": [],
   "source": [
    "# set variables for parsing\n",
    "url = \"https://www.residentadvisor.net/events\"\n",
    "req = requests.get(url)\n",
    "soup = BeautifulSoup(req.content, 'html.parser')"
   ]
  },
  {
   "cell_type": "markdown",
   "metadata": {},
   "source": [
    "### Find the Page's Event Names"
   ]
  },
  {
   "cell_type": "code",
   "execution_count": 127,
   "metadata": {},
   "outputs": [
    {
     "data": {
      "text/plain": [
       "[<li class=\"\">\n",
       " <article class=\"highlight-top\">\n",
       " <p>Fri, 10 Jan 2020</p>\n",
       " <a ga-event-action=\"popular-events\" ga-event-category=\"events-page\" ga-on=\"click\" href=\"/events/1363481\"><img class=\"nohide\" src=\"/images/events/flyer/2020/1/us-0110-1363481-list.jpg\"/></a>\n",
       " <p class=\"counter nohide\">\n",
       " <span>1</span> attending\n",
       " </p>\n",
       " <a ga-event-action=\"popular-events\" ga-event-category=\"events-page\" ga-on=\"click\" href=\"/events/1363481\">\n",
       " <h1>\n",
       " Dining in the Dark - DJ Charles Martin\n",
       " </h1>\n",
       " </a>\n",
       " <p class=\"copy nohide\">\n",
       " Greenhouse Bistro\n",
       " </p>\n",
       " </article>\n",
       " </li>, <li class=\"\">\n",
       " <article class=\"highlight-top\">\n",
       " <p>Sat, 11 Jan 2020</p>\n",
       " <a ga-event-action=\"popular-events\" ga-event-category=\"events-page\" ga-on=\"click\" href=\"/events/1365223\"><img class=\"nohide\" src=\"/images/events/flyer/2020/1/us-0111-1365223-list.jpg\"/></a>\n",
       " <p class=\"counter nohide\">\n",
       " <span>2</span> attending\n",
       " </p>\n",
       " <a ga-event-action=\"popular-events\" ga-event-category=\"events-page\" ga-on=\"click\" href=\"/events/1365223\">\n",
       " <h1>\n",
       " Lift x Rhythmfire Sessions: Rometti, Owen Alek, Philophonic\n",
       " </h1>\n",
       " </a>\n",
       " <p class=\"copy nohide\">\n",
       " <a href=\"\\club.aspx?id=172593\">Poor Boys</a>\n",
       " </p>\n",
       " </article>\n",
       " </li>]"
      ]
     },
     "execution_count": 127,
     "metadata": {},
     "output_type": "execute_result"
    }
   ],
   "source": [
    "container = soup.find('div', id=\"events-listing\").findAll('li')\n",
    "pagers\n",
    "\n",
    "#entries = event_listings.findAll('li')"
   ]
  },
  {
   "cell_type": "code",
   "execution_count": 129,
   "metadata": {},
   "outputs": [
    {
     "data": {
      "text/plain": [
       "[<h1>\n",
       " Dining in the Dark - DJ Charles Martin\n",
       " </h1>, <h1>\n",
       " Lift x Rhythmfire Sessions: Rometti, Owen Alek, Philophonic\n",
       " </h1>]"
      ]
     },
     "execution_count": 129,
     "metadata": {},
     "output_type": "execute_result"
    }
   ],
   "source": [
    "# find the page events container\n",
    "page_events_box = (soup.find('div', id=\"events-listing\").findAll('h1'))\n",
    "page_events_box"
   ]
  },
  {
   "cell_type": "code",
   "execution_count": 80,
   "metadata": {},
   "outputs": [
    {
     "data": {
      "text/plain": [
       "'Dining in the Dark - DJ Charles Martin'"
      ]
     },
     "execution_count": 80,
     "metadata": {},
     "output_type": "execute_result"
    }
   ],
   "source": [
    "# find the first event name with newline characters removed\n",
    "first_event = page_events_box[0].text.strip()\n",
    "first_event"
   ]
  },
  {
   "cell_type": "code",
   "execution_count": 42,
   "metadata": {},
   "outputs": [
    {
     "data": {
      "text/plain": [
       "[{'event_name': 'Dining in the Dark - DJ Charles Martin'},\n",
       " {'event_name': 'Lift x Rhythmfire Sessions: Rometti, Owen Alek, Philophonic'}]"
      ]
     },
     "execution_count": 42,
     "metadata": {},
     "output_type": "execute_result"
    }
   ],
   "source": [
    "# create a list of dictionaries for conversion to a pandas dataframe\n",
    "event_list = []\n",
    "\n",
    "for event in page_events_box:\n",
    "    event_dict = {}\n",
    "    event_dict[\"event_name\"] = event.text.strip()\n",
    "    event_list.append(event_dict)\n",
    "event_list"
   ]
  },
  {
   "cell_type": "markdown",
   "metadata": {},
   "source": [
    "### Produce the Events DataFrame Series"
   ]
  },
  {
   "cell_type": "code",
   "execution_count": 44,
   "metadata": {},
   "outputs": [
    {
     "data": {
      "text/html": [
       "<div>\n",
       "<style scoped>\n",
       "    .dataframe tbody tr th:only-of-type {\n",
       "        vertical-align: middle;\n",
       "    }\n",
       "\n",
       "    .dataframe tbody tr th {\n",
       "        vertical-align: top;\n",
       "    }\n",
       "\n",
       "    .dataframe thead th {\n",
       "        text-align: right;\n",
       "    }\n",
       "</style>\n",
       "<table border=\"1\" class=\"dataframe\">\n",
       "  <thead>\n",
       "    <tr style=\"text-align: right;\">\n",
       "      <th></th>\n",
       "      <th>Event_Name</th>\n",
       "    </tr>\n",
       "  </thead>\n",
       "  <tbody>\n",
       "    <tr>\n",
       "      <td>0</td>\n",
       "      <td>Dining in the Dark - DJ Charles Martin</td>\n",
       "    </tr>\n",
       "    <tr>\n",
       "      <td>1</td>\n",
       "      <td>Lift x Rhythmfire Sessions: Rometti, Owen Alek...</td>\n",
       "    </tr>\n",
       "  </tbody>\n",
       "</table>\n",
       "</div>"
      ],
      "text/plain": [
       "                                          Event_Name\n",
       "0             Dining in the Dark - DJ Charles Martin\n",
       "1  Lift x Rhythmfire Sessions: Rometti, Owen Alek..."
      ]
     },
     "execution_count": 44,
     "metadata": {},
     "output_type": "execute_result"
    }
   ],
   "source": [
    "df = pd.DataFrame(event_list)\n",
    "df.columns = ['Event_Name']\n",
    "df.head()"
   ]
  },
  {
   "cell_type": "markdown",
   "metadata": {},
   "source": [
    "### Venues"
   ]
  },
  {
   "cell_type": "code",
   "execution_count": 83,
   "metadata": {},
   "outputs": [
    {
     "data": {
      "text/plain": [
       "[<p class=\"copy nohide\">\n",
       " Greenhouse Bistro\n",
       " </p>, <p class=\"copy nohide\">\n",
       " <a href=\"\\club.aspx?id=172593\">Poor Boys</a>\n",
       " </p>]"
      ]
     },
     "execution_count": 83,
     "metadata": {},
     "output_type": "execute_result"
    }
   ],
   "source": [
    "# find page events venues\n",
    "#events_venues = (soup.findAll('p', {\"class\": \"copy nohide\"}))\n",
    "events_venues = (soup.find('div', id=\"events-listing\").findAll('p', {\"class\": \"copy nohide\"}))\n",
    "events_venues"
   ]
  },
  {
   "cell_type": "code",
   "execution_count": 84,
   "metadata": {},
   "outputs": [
    {
     "data": {
      "text/plain": [
       "[{'venue': 'Greenhouse Bistro'}, {'venue': 'Poor Boys'}]"
      ]
     },
     "execution_count": 84,
     "metadata": {},
     "output_type": "execute_result"
    }
   ],
   "source": [
    "# create a list of dictionaries for conversion to a pandas dataframe\n",
    "venues_list = []\n",
    "\n",
    "for venue in events_venues:\n",
    "    venues_dict = {}\n",
    "    venues_dict[\"venue\"] = venue.text.strip()\n",
    "    venues_list.append(venues_dict)\n",
    "venues_list"
   ]
  },
  {
   "cell_type": "markdown",
   "metadata": {},
   "source": [
    "### Event Dates"
   ]
  },
  {
   "cell_type": "code",
   "execution_count": 118,
   "metadata": {},
   "outputs": [
    {
     "data": {
      "text/plain": [
       "<article class=\"highlight-top\">\n",
       "<p>Fri, 10 Jan 2020</p>\n",
       "<a ga-event-action=\"popular-events\" ga-event-category=\"events-page\" ga-on=\"click\" href=\"/events/1363481\"><img class=\"nohide\" src=\"/images/events/flyer/2020/1/us-0110-1363481-list.jpg\"/></a>\n",
       "<p class=\"counter nohide\">\n",
       "<span>1</span> attending\n",
       "</p>\n",
       "<a ga-event-action=\"popular-events\" ga-event-category=\"events-page\" ga-on=\"click\" href=\"/events/1363481\">\n",
       "<h1>\n",
       "Dining in the Dark - DJ Charles Martin\n",
       "</h1>\n",
       "</a>\n",
       "<p class=\"copy nohide\">\n",
       "Greenhouse Bistro\n",
       "</p>\n",
       "</article>"
      ]
     },
     "execution_count": 118,
     "metadata": {},
     "output_type": "execute_result"
    }
   ],
   "source": [
    "# find event date\n",
    "#events_dates = (soup.find('article', {\"class\": \"highlight-top\"}).findAll('p'))\n",
    "# events_dates = (soup.find('div', id=\"events-listing\").findAll('article', {\"class\": \"highlight-top\"}))\n",
    "# events_dates[0]\n",
    "\n",
    "events_dates = (soup.find('div', id=\"events-listing\").findAll('article', {\"class\": \"highlight-top\"}))\n",
    "events_dates[0]"
   ]
  },
  {
   "cell_type": "code",
   "execution_count": null,
   "metadata": {},
   "outputs": [],
   "source": [
    "entries = event_listings.findAll('li')\n"
   ]
  },
  {
   "cell_type": "code",
   "execution_count": 77,
   "metadata": {},
   "outputs": [
    {
     "data": {
      "text/plain": [
       "'Fri, 10 Jan 2020'"
      ]
     },
     "execution_count": 77,
     "metadata": {},
     "output_type": "execute_result"
    }
   ],
   "source": [
    "# find the first event name with newline characters removed\n",
    "first_event_date = events_dates[0].text.strip()\n",
    "first_event_date"
   ]
  },
  {
   "cell_type": "code",
   "execution_count": 79,
   "metadata": {},
   "outputs": [
    {
     "data": {
      "text/plain": [
       "[{'event_date': 'Fri, 10 Jan 2020'},\n",
       " {'event_date': '1 attending'},\n",
       " {'event_date': 'Greenhouse Bistro'}]"
      ]
     },
     "execution_count": 79,
     "metadata": {},
     "output_type": "execute_result"
    }
   ],
   "source": [
    "# create a list of dictionaries for conversion to a pandas dataframe\n",
    "dates_list = []\n",
    "\n",
    "for date in events_dates:\n",
    "    dates_dict = {}\n",
    "    dates_dict[\"event_date\"] = date.text.strip()\n",
    "    dates_list.append(dates_dict)\n",
    "dates_list"
   ]
  },
  {
   "cell_type": "markdown",
   "metadata": {},
   "source": [
    "### Number of Event Attendees"
   ]
  },
  {
   "cell_type": "code",
   "execution_count": null,
   "metadata": {},
   "outputs": [],
   "source": [
    "# get number of attendees"
   ]
  },
  {
   "cell_type": "markdown",
   "metadata": {},
   "source": [
    "## Write a Function to Retrieve the URL for the Next Page"
   ]
  },
  {
   "cell_type": "code",
   "execution_count": null,
   "metadata": {},
   "outputs": [],
   "source": [
    "def next_page(url):\n",
    "    #Your code here\n",
    "    return next_page_url"
   ]
  },
  {
   "cell_type": "markdown",
   "metadata": {},
   "source": [
    "## Scrape the Next 1000 Events for Your Area\n",
    "\n",
    "Display the data sorted by the number of attendees. If there is a tie for the number attending, sort by event date."
   ]
  },
  {
   "cell_type": "markdown",
   "metadata": {},
   "source": [
    "## Summary \n",
    "\n",
    "Congratulations! In this lab, you successfully developed a pipeline to scrape a website for concert event information!"
   ]
  }
 ],
 "metadata": {
  "kernelspec": {
   "display_name": "Python 3",
   "language": "python",
   "name": "python3"
  },
  "language_info": {
   "codemirror_mode": {
    "name": "ipython",
    "version": 3
   },
   "file_extension": ".py",
   "mimetype": "text/x-python",
   "name": "python",
   "nbconvert_exporter": "python",
   "pygments_lexer": "ipython3",
   "version": "3.6.9"
  }
 },
 "nbformat": 4,
 "nbformat_minor": 2
}
